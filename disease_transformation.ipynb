{
 "cells": [
  {
   "cell_type": "code",
   "execution_count": 0,
   "metadata": {
    "application/vnd.databricks.v1+cell": {
     "cellMetadata": {
      "byteLimit": 2048000,
      "rowLimit": 10000
     },
     "inputWidgets": {},
     "nuid": "0b86f99e-53b9-4e26-bf8b-ed888e0b8348",
     "showTitle": false,
     "tableResultSettingsMap": {},
     "title": ""
    }
   },
   "outputs": [],
   "source": [
    "%run /Workspace/Shared/optum/connectors"
   ]
  },
  {
   "cell_type": "code",
   "execution_count": 0,
   "metadata": {
    "application/vnd.databricks.v1+cell": {
     "cellMetadata": {
      "byteLimit": 2048000,
      "rowLimit": 10000
     },
     "inputWidgets": {},
     "nuid": "5c410ec2-e810-4a7a-9465-79966bf7298f",
     "showTitle": false,
     "tableResultSettingsMap": {},
     "title": ""
    }
   },
   "outputs": [],
   "source": [
    "%run /Workspace/Shared/optum/datacleaning"
   ]
  },
  {
   "cell_type": "code",
   "execution_count": 0,
   "metadata": {
    "application/vnd.databricks.v1+cell": {
     "cellMetadata": {
      "byteLimit": 2048000,
      "rowLimit": 10000
     },
     "inputWidgets": {},
     "nuid": "2611b520-bb1f-40af-a9e1-0959e29fb0b6",
     "showTitle": false,
     "tableResultSettingsMap": {},
     "title": ""
    }
   },
   "outputs": [],
   "source": [
    "dis_df = readbronzedata('disease.csv')\n"
   ]
  },
  {
   "cell_type": "code",
   "execution_count": 0,
   "metadata": {
    "application/vnd.databricks.v1+cell": {
     "cellMetadata": {
      "byteLimit": 2048000,
      "rowLimit": 10000
     },
     "inputWidgets": {},
     "nuid": "8c1370f6-2e17-42ac-999c-8f199a9c0066",
     "showTitle": false,
     "tableResultSettingsMap": {},
     "title": ""
    }
   },
   "outputs": [
    {
     "output_type": "execute_result",
     "data": {
      "text/plain": [
       "DataFrame[subgrp_id: string, disease_id: string, disease_name: string]"
      ]
     },
     "execution_count": 18,
     "metadata": {},
     "output_type": "execute_result"
    }
   ],
   "source": [
    "dropduplicates(dis_df)"
   ]
  },
  {
   "cell_type": "code",
   "execution_count": 0,
   "metadata": {
    "application/vnd.databricks.v1+cell": {
     "cellMetadata": {
      "byteLimit": 2048000,
      "rowLimit": 10000
     },
     "inputWidgets": {},
     "nuid": "75934552-3a47-467d-a658-c942f73724eb",
     "showTitle": false,
     "tableResultSettingsMap": {},
     "title": ""
    }
   },
   "outputs": [
    {
     "output_type": "display_data",
     "data": {
      "text/html": [
       "<style scoped>\n",
       "  .table-result-container {\n",
       "    max-height: 300px;\n",
       "    overflow: auto;\n",
       "  }\n",
       "  table, th, td {\n",
       "    border: 1px solid black;\n",
       "    border-collapse: collapse;\n",
       "  }\n",
       "  th, td {\n",
       "    padding: 5px;\n",
       "  }\n",
       "  th {\n",
       "    text-align: left;\n",
       "  }\n",
       "</style><div class='table-result-container'><table class='table-result'><thead style='background-color: white'><tr><th>subgrp_id</th><th>disease_id</th><th>disease_name</th></tr></thead><tbody><tr><td>S101</td><td>110001</td><td>Beriberi</td></tr><tr><td>S101</td><td>110002</td><td>Scurvy</td></tr><tr><td>S101</td><td>110003</td><td>Goitre</td></tr><tr><td>S101</td><td>110004</td><td>Osteoporosis</td></tr><tr><td>S101</td><td>110005</td><td>Rickets</td></tr><tr><td>S101</td><td>110006</td><td>Anaemia</td></tr><tr><td>S102</td><td>110007</td><td>Fractures</td></tr><tr><td>S102</td><td>110008</td><td>Heart Attack</td></tr><tr><td>S102</td><td>110009</td><td>Burns</td></tr><tr><td>S102</td><td>110010</td><td>Choking</td></tr><tr><td>S102</td><td>110011</td><td>Stroke</td></tr><tr><td>S102</td><td>110012</td><td>Food Poisoning</td></tr><tr><td>S103</td><td>110013</td><td>Asthma</td></tr><tr><td>S103</td><td>110014</td><td>Glaucoma</td></tr><tr><td>S103</td><td>110015</td><td>Diabetes</td></tr><tr><td>S103</td><td>110016</td><td>Amnesia</td></tr><tr><td>S103</td><td>110017</td><td>Parasomnias</td></tr><tr><td>S103</td><td>110018</td><td>Neurocognitive disorders</td></tr><tr><td>S104</td><td>110019</td><td>Vertigo</td></tr><tr><td>S104</td><td>110020</td><td>Lymphedema</td></tr><tr><td>S104</td><td>110021</td><td>Concussion</td></tr><tr><td>S104</td><td>110022</td><td>Arthritis</td></tr><tr><td>S104</td><td>110023</td><td>Whiplash</td></tr><tr><td>S104</td><td>110024</td><td>Parkinson's disease</td></tr><tr><td>S105</td><td>110025</td><td>Insecy allergy</td></tr><tr><td>S105</td><td>110026</td><td>Mold allergy</td></tr><tr><td>S105</td><td>110027</td><td>Pet allergy</td></tr><tr><td>S105</td><td>110028</td><td>Pollen allergy</td></tr><tr><td>S105</td><td>110029</td><td>Drug allergy</td></tr><tr><td>S105</td><td>110030</td><td>Food allergy</td></tr><tr><td>S106</td><td>110031</td><td>Suicide</td></tr><tr><td>S106</td><td>110032</td><td>Smoking</td></tr><tr><td>S106</td><td>110033</td><td>Sunbathing</td></tr><tr><td>S106</td><td>110034</td><td>Alcohol consumption</td></tr><tr><td>S106</td><td>110035</td><td>Head banging</td></tr><tr><td>S106</td><td>110036</td><td>Drug consumption</td></tr><tr><td>S107</td><td>110037</td><td>Kidney cancer</td></tr><tr><td>S107</td><td>110038</td><td>Colorectal cancer</td></tr><tr><td>S107</td><td>110039</td><td>Bladder cancer</td></tr><tr><td>S107</td><td>110040</td><td>Melanoma</td></tr><tr><td>S107</td><td>110041</td><td>Lung cancer</td></tr><tr><td>S107</td><td>110042</td><td>Breast cancer</td></tr><tr><td>S108</td><td>110043</td><td>Measles</td></tr><tr><td>S108</td><td>110044</td><td>Dengue</td></tr><tr><td>S108</td><td>110045</td><td>Smallpox</td></tr><tr><td>S108</td><td>110046</td><td>Anthrax</td></tr><tr><td>S108</td><td>110047</td><td>Cholera</td></tr><tr><td>S108</td><td>110048</td><td>Malaria</td></tr><tr><td>S109</td><td>110049</td><td>Cystic fibrosis</td></tr><tr><td>S109</td><td>110050</td><td>Fanconi anaemia</td></tr><tr><td>S109</td><td>110051</td><td>Phenylketonuria</td></tr><tr><td>S109</td><td>110052</td><td>Galactosemia</td></tr><tr><td>S109</td><td>110053</td><td>Rett Syndrome</td></tr><tr><td>S109</td><td>110054</td><td>Hemophilia</td></tr><tr><td>S110</td><td>110055</td><td>Hepatitis</td></tr><tr><td>S110</td><td>110056</td><td>Mumps</td></tr><tr><td>S110</td><td>110057</td><td>Pneumonia</td></tr><tr><td>S110</td><td>110058</td><td>Shingles</td></tr><tr><td>S110</td><td>110059</td><td>Flu</td></tr><tr><td>S110</td><td>110060</td><td>Chickenpox</td></tr></tbody></table></div>"
      ]
     },
     "metadata": {
      "application/vnd.databricks.v1+output": {
       "addedWidgets": {},
       "aggData": [],
       "aggError": "",
       "aggOverflow": false,
       "aggSchema": [],
       "aggSeriesLimitReached": false,
       "aggType": "",
       "arguments": {},
       "columnCustomDisplayInfos": {},
       "data": [
        [
         "S101",
         "110001",
         "Beriberi"
        ],
        [
         "S101",
         "110002",
         "Scurvy"
        ],
        [
         "S101",
         "110003",
         "Goitre"
        ],
        [
         "S101",
         "110004",
         "Osteoporosis"
        ],
        [
         "S101",
         "110005",
         "Rickets"
        ],
        [
         "S101",
         "110006",
         "Anaemia"
        ],
        [
         "S102",
         "110007",
         "Fractures"
        ],
        [
         "S102",
         "110008",
         "Heart Attack"
        ],
        [
         "S102",
         "110009",
         "Burns"
        ],
        [
         "S102",
         "110010",
         "Choking"
        ],
        [
         "S102",
         "110011",
         "Stroke"
        ],
        [
         "S102",
         "110012",
         "Food Poisoning"
        ],
        [
         "S103",
         "110013",
         "Asthma"
        ],
        [
         "S103",
         "110014",
         "Glaucoma"
        ],
        [
         "S103",
         "110015",
         "Diabetes"
        ],
        [
         "S103",
         "110016",
         "Amnesia"
        ],
        [
         "S103",
         "110017",
         "Parasomnias"
        ],
        [
         "S103",
         "110018",
         "Neurocognitive disorders"
        ],
        [
         "S104",
         "110019",
         "Vertigo"
        ],
        [
         "S104",
         "110020",
         "Lymphedema"
        ],
        [
         "S104",
         "110021",
         "Concussion"
        ],
        [
         "S104",
         "110022",
         "Arthritis"
        ],
        [
         "S104",
         "110023",
         "Whiplash"
        ],
        [
         "S104",
         "110024",
         "Parkinson's disease"
        ],
        [
         "S105",
         "110025",
         "Insecy allergy"
        ],
        [
         "S105",
         "110026",
         "Mold allergy"
        ],
        [
         "S105",
         "110027",
         "Pet allergy"
        ],
        [
         "S105",
         "110028",
         "Pollen allergy"
        ],
        [
         "S105",
         "110029",
         "Drug allergy"
        ],
        [
         "S105",
         "110030",
         "Food allergy"
        ],
        [
         "S106",
         "110031",
         "Suicide"
        ],
        [
         "S106",
         "110032",
         "Smoking"
        ],
        [
         "S106",
         "110033",
         "Sunbathing"
        ],
        [
         "S106",
         "110034",
         "Alcohol consumption"
        ],
        [
         "S106",
         "110035",
         "Head banging"
        ],
        [
         "S106",
         "110036",
         "Drug consumption"
        ],
        [
         "S107",
         "110037",
         "Kidney cancer"
        ],
        [
         "S107",
         "110038",
         "Colorectal cancer"
        ],
        [
         "S107",
         "110039",
         "Bladder cancer"
        ],
        [
         "S107",
         "110040",
         "Melanoma"
        ],
        [
         "S107",
         "110041",
         "Lung cancer"
        ],
        [
         "S107",
         "110042",
         "Breast cancer"
        ],
        [
         "S108",
         "110043",
         "Measles"
        ],
        [
         "S108",
         "110044",
         "Dengue"
        ],
        [
         "S108",
         "110045",
         "Smallpox"
        ],
        [
         "S108",
         "110046",
         "Anthrax"
        ],
        [
         "S108",
         "110047",
         "Cholera"
        ],
        [
         "S108",
         "110048",
         "Malaria"
        ],
        [
         "S109",
         "110049",
         "Cystic fibrosis"
        ],
        [
         "S109",
         "110050",
         "Fanconi anaemia"
        ],
        [
         "S109",
         "110051",
         "Phenylketonuria"
        ],
        [
         "S109",
         "110052",
         "Galactosemia"
        ],
        [
         "S109",
         "110053",
         "Rett Syndrome"
        ],
        [
         "S109",
         "110054",
         "Hemophilia"
        ],
        [
         "S110",
         "110055",
         "Hepatitis"
        ],
        [
         "S110",
         "110056",
         "Mumps"
        ],
        [
         "S110",
         "110057",
         "Pneumonia"
        ],
        [
         "S110",
         "110058",
         "Shingles"
        ],
        [
         "S110",
         "110059",
         "Flu"
        ],
        [
         "S110",
         "110060",
         "Chickenpox"
        ]
       ],
       "datasetInfos": [],
       "dbfsResultPath": null,
       "isJsonSchema": true,
       "metadata": {},
       "overflow": false,
       "plotOptions": {
        "customPlotOptions": {},
        "displayType": "table",
        "pivotAggregation": null,
        "pivotColumns": null,
        "xColumns": null,
        "yColumns": null
       },
       "removedWidgets": [],
       "schema": [
        {
         "metadata": "{}",
         "name": "subgrp_id",
         "type": "\"string\""
        },
        {
         "metadata": "{}",
         "name": "disease_id",
         "type": "\"string\""
        },
        {
         "metadata": "{}",
         "name": "disease_name",
         "type": "\"string\""
        }
       ],
       "type": "table"
      }
     },
     "output_type": "display_data"
    }
   ],
   "source": [
    "display(dis_df)"
   ]
  },
  {
   "cell_type": "code",
   "execution_count": 0,
   "metadata": {
    "application/vnd.databricks.v1+cell": {
     "cellMetadata": {
      "byteLimit": 2048000,
      "rowLimit": 10000
     },
     "inputWidgets": {},
     "nuid": "6eb84538-8805-4f1a-bf9e-bf8753864e78",
     "showTitle": false,
     "tableResultSettingsMap": {},
     "title": ""
    }
   },
   "outputs": [
    {
     "output_type": "stream",
     "name": "stdout",
     "output_type": "stream",
     "text": [
      "CSV file successfully written to abfss://optummedilian@adlsoptum.dfs.core.windows.net/Silver//diseases_s.csv\n"
     ]
    },
    {
     "output_type": "execute_result",
     "data": {
      "text/plain": [
       "'abfss://optummedilian@adlsoptum.dfs.core.windows.net/Silver//diseases_s.csv'"
      ]
     },
     "execution_count": 20,
     "metadata": {},
     "output_type": "execute_result"
    }
   ],
   "source": [
    "write2silverdata(dis_df, \"diseases_s.csv\")"
   ]
  }
 ],
 "metadata": {
  "application/vnd.databricks.v1+notebook": {
   "computePreferences": null,
   "dashboards": [],
   "environmentMetadata": {
    "base_environment": "",
    "environment_version": "2"
   },
   "language": "python",
   "notebookMetadata": {
    "pythonIndentUnit": 4
   },
   "notebookName": "disease_transformation",
   "widgets": {}
  },
  "language_info": {
   "name": "python"
  }
 },
 "nbformat": 4,
 "nbformat_minor": 0
}