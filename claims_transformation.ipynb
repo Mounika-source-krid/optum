{
 "cells": [
  {
   "cell_type": "code",
   "execution_count": 0,
   "metadata": {
    "application/vnd.databricks.v1+cell": {
     "cellMetadata": {
      "byteLimit": 2048000,
      "rowLimit": 10000
     },
     "inputWidgets": {},
     "nuid": "0b86f99e-53b9-4e26-bf8b-ed888e0b8348",
     "showTitle": false,
     "tableResultSettingsMap": {},
     "title": ""
    }
   },
   "outputs": [],
   "source": [
    "%run /Workspace/Shared/optum/connectors"
   ]
  },
  {
   "cell_type": "code",
   "execution_count": 0,
   "metadata": {
    "application/vnd.databricks.v1+cell": {
     "cellMetadata": {
      "byteLimit": 2048000,
      "rowLimit": 10000
     },
     "inputWidgets": {},
     "nuid": "5c410ec2-e810-4a7a-9465-79966bf7298f",
     "showTitle": false,
     "tableResultSettingsMap": {},
     "title": ""
    }
   },
   "outputs": [],
   "source": [
    "%run /Workspace/Shared/optum/datacleaning"
   ]
  },
  {
   "cell_type": "code",
   "execution_count": 0,
   "metadata": {
    "application/vnd.databricks.v1+cell": {
     "cellMetadata": {
      "byteLimit": 2048000,
      "rowLimit": 10000
     },
     "inputWidgets": {},
     "nuid": "2611b520-bb1f-40af-a9e1-0959e29fb0b6",
     "showTitle": false,
     "tableResultSettingsMap": {},
     "title": ""
    }
   },
   "outputs": [],
   "source": [
    "claim_df = readbronzedata('claims.json')"
   ]
  },
  {
   "cell_type": "code",
   "execution_count": 0,
   "metadata": {
    "application/vnd.databricks.v1+cell": {
     "cellMetadata": {
      "byteLimit": 2048000,
      "rowLimit": 10000
     },
     "inputWidgets": {},
     "nuid": "d9e362ec-922c-4a79-9a37-a14990c15beb",
     "showTitle": false,
     "tableResultSettingsMap": {},
     "title": ""
    }
   },
   "outputs": [
    {
     "output_type": "display_data",
     "data": {
      "text/html": [
       "<style scoped>\n",
       "  .table-result-container {\n",
       "    max-height: 300px;\n",
       "    overflow: auto;\n",
       "  }\n",
       "  table, th, td {\n",
       "    border: 1px solid black;\n",
       "    border-collapse: collapse;\n",
       "  }\n",
       "  th, td {\n",
       "    padding: 5px;\n",
       "  }\n",
       "  th {\n",
       "    text-align: left;\n",
       "  }\n",
       "</style><div class='table-result-container'><table class='table-result'><thead style='background-color: white'><tr><th>{\"_id\":{\"$oid\":\"67d6abc540ed52286aac3587\"}</th><th>\"id\":\"replace_with_new_document_id\"}</th></tr></thead><tbody><tr><td>{\"_id\":{\"$oid\":\"67d6ac2540ed52286aac3588\"}</td><td>\"claim_id\":0</td></tr><tr><td>{\"_id\":{\"$oid\":\"67d6ac2540ed52286aac3589\"}</td><td>\"claim_id\":1</td></tr><tr><td>{\"_id\":{\"$oid\":\"67d6ac2540ed52286aac358a\"}</td><td>\"claim_id\":2</td></tr><tr><td>{\"_id\":{\"$oid\":\"67d6ac2540ed52286aac358b\"}</td><td>\"claim_id\":3</td></tr><tr><td>{\"_id\":{\"$oid\":\"67d6ac2540ed52286aac358c\"}</td><td>\"claim_id\":4</td></tr><tr><td>{\"_id\":{\"$oid\":\"67d6ac2540ed52286aac358d\"}</td><td>\"claim_id\":5</td></tr><tr><td>{\"_id\":{\"$oid\":\"67d6ac2540ed52286aac358e\"}</td><td>\"claim_id\":6</td></tr><tr><td>{\"_id\":{\"$oid\":\"67d6ac2540ed52286aac358f\"}</td><td>\"claim_id\":7</td></tr><tr><td>{\"_id\":{\"$oid\":\"67d6ac2540ed52286aac3590\"}</td><td>\"claim_id\":8</td></tr><tr><td>{\"_id\":{\"$oid\":\"67d6ac2540ed52286aac3591\"}</td><td>\"claim_id\":9</td></tr><tr><td>{\"_id\":{\"$oid\":\"67d6ac2540ed52286aac3592\"}</td><td>\"claim_id\":10</td></tr><tr><td>{\"_id\":{\"$oid\":\"67d6ac2540ed52286aac3593\"}</td><td>\"claim_id\":11</td></tr><tr><td>{\"_id\":{\"$oid\":\"67d6ac2540ed52286aac3594\"}</td><td>\"claim_id\":12</td></tr><tr><td>{\"_id\":{\"$oid\":\"67d6ac2540ed52286aac3595\"}</td><td>\"claim_id\":13</td></tr><tr><td>{\"_id\":{\"$oid\":\"67d6ac2540ed52286aac3596\"}</td><td>\"claim_id\":14</td></tr><tr><td>{\"_id\":{\"$oid\":\"67d6ac2540ed52286aac3597\"}</td><td>\"claim_id\":15</td></tr><tr><td>{\"_id\":{\"$oid\":\"67d6ac2540ed52286aac3598\"}</td><td>\"claim_id\":16</td></tr><tr><td>{\"_id\":{\"$oid\":\"67d6ac2540ed52286aac3599\"}</td><td>\"claim_id\":17</td></tr><tr><td>{\"_id\":{\"$oid\":\"67d6ac2540ed52286aac359a\"}</td><td>\"claim_id\":18</td></tr><tr><td>{\"_id\":{\"$oid\":\"67d6ac2540ed52286aac359b\"}</td><td>\"claim_id\":19</td></tr><tr><td>{\"_id\":{\"$oid\":\"67d6ac2540ed52286aac359c\"}</td><td>\"claim_id\":20</td></tr><tr><td>{\"_id\":{\"$oid\":\"67d6ac2540ed52286aac359d\"}</td><td>\"claim_id\":21</td></tr><tr><td>{\"_id\":{\"$oid\":\"67d6ac2540ed52286aac359e\"}</td><td>\"claim_id\":22</td></tr><tr><td>{\"_id\":{\"$oid\":\"67d6ac2540ed52286aac359f\"}</td><td>\"claim_id\":23</td></tr><tr><td>{\"_id\":{\"$oid\":\"67d6ac2540ed52286aac35a0\"}</td><td>\"claim_id\":24</td></tr><tr><td>{\"_id\":{\"$oid\":\"67d6ac2540ed52286aac35a1\"}</td><td>\"claim_id\":25</td></tr><tr><td>{\"_id\":{\"$oid\":\"67d6ac2540ed52286aac35a2\"}</td><td>\"claim_id\":26</td></tr><tr><td>{\"_id\":{\"$oid\":\"67d6ac2540ed52286aac35a3\"}</td><td>\"claim_id\":27</td></tr><tr><td>{\"_id\":{\"$oid\":\"67d6ac2540ed52286aac35a4\"}</td><td>\"claim_id\":28</td></tr><tr><td>{\"_id\":{\"$oid\":\"67d6ac2540ed52286aac35a5\"}</td><td>\"claim_id\":29</td></tr><tr><td>{\"_id\":{\"$oid\":\"67d6ac2540ed52286aac35a6\"}</td><td>\"claim_id\":30</td></tr><tr><td>{\"_id\":{\"$oid\":\"67d6ac2540ed52286aac35a7\"}</td><td>\"claim_id\":31</td></tr><tr><td>{\"_id\":{\"$oid\":\"67d6ac2540ed52286aac35a8\"}</td><td>\"claim_id\":32</td></tr><tr><td>{\"_id\":{\"$oid\":\"67d6ac2540ed52286aac35a9\"}</td><td>\"claim_id\":33</td></tr><tr><td>{\"_id\":{\"$oid\":\"67d6ac2540ed52286aac35aa\"}</td><td>\"claim_id\":34</td></tr><tr><td>{\"_id\":{\"$oid\":\"67d6ac2540ed52286aac35ab\"}</td><td>\"claim_id\":35</td></tr><tr><td>{\"_id\":{\"$oid\":\"67d6ac2540ed52286aac35ac\"}</td><td>\"claim_id\":36</td></tr><tr><td>{\"_id\":{\"$oid\":\"67d6ac2540ed52286aac35ad\"}</td><td>\"claim_id\":37</td></tr><tr><td>{\"_id\":{\"$oid\":\"67d6ac2540ed52286aac35ae\"}</td><td>\"claim_id\":38</td></tr><tr><td>{\"_id\":{\"$oid\":\"67d6ac2540ed52286aac35af\"}</td><td>\"claim_id\":39</td></tr><tr><td>{\"_id\":{\"$oid\":\"67d6ac2540ed52286aac35b0\"}</td><td>\"claim_id\":40</td></tr><tr><td>{\"_id\":{\"$oid\":\"67d6ac2540ed52286aac35b1\"}</td><td>\"claim_id\":41</td></tr><tr><td>{\"_id\":{\"$oid\":\"67d6ac2540ed52286aac35b2\"}</td><td>\"claim_id\":42</td></tr><tr><td>{\"_id\":{\"$oid\":\"67d6ac2540ed52286aac35b3\"}</td><td>\"claim_id\":43</td></tr><tr><td>{\"_id\":{\"$oid\":\"67d6ac2540ed52286aac35b4\"}</td><td>\"claim_id\":44</td></tr><tr><td>{\"_id\":{\"$oid\":\"67d6ac2540ed52286aac35b5\"}</td><td>\"claim_id\":45</td></tr><tr><td>{\"_id\":{\"$oid\":\"67d6ac2540ed52286aac35b6\"}</td><td>\"claim_id\":46</td></tr><tr><td>{\"_id\":{\"$oid\":\"67d6ac2540ed52286aac35b7\"}</td><td>\"claim_id\":47</td></tr><tr><td>{\"_id\":{\"$oid\":\"67d6ac2540ed52286aac35b8\"}</td><td>\"claim_id\":48</td></tr><tr><td>{\"_id\":{\"$oid\":\"67d6ac2540ed52286aac35b9\"}</td><td>\"claim_id\":49</td></tr><tr><td>{\"_id\":{\"$oid\":\"67d6ac2540ed52286aac35ba\"}</td><td>\"claim_id\":50</td></tr><tr><td>{\"_id\":{\"$oid\":\"67d6ac2540ed52286aac35bb\"}</td><td>\"claim_id\":51</td></tr><tr><td>{\"_id\":{\"$oid\":\"67d6ac2540ed52286aac35bc\"}</td><td>\"claim_id\":52</td></tr><tr><td>{\"_id\":{\"$oid\":\"67d6ac2540ed52286aac35bd\"}</td><td>\"claim_id\":53</td></tr><tr><td>{\"_id\":{\"$oid\":\"67d6ac2540ed52286aac35be\"}</td><td>\"claim_id\":54</td></tr><tr><td>{\"_id\":{\"$oid\":\"67d6ac2540ed52286aac35bf\"}</td><td>\"claim_id\":55</td></tr><tr><td>{\"_id\":{\"$oid\":\"67d6ac2540ed52286aac35c0\"}</td><td>\"claim_id\":56</td></tr><tr><td>{\"_id\":{\"$oid\":\"67d6ac2540ed52286aac35c1\"}</td><td>\"claim_id\":57</td></tr><tr><td>{\"_id\":{\"$oid\":\"67d6ac2540ed52286aac35c2\"}</td><td>\"claim_id\":58</td></tr><tr><td>{\"_id\":{\"$oid\":\"67d6ac2540ed52286aac35c3\"}</td><td>\"claim_id\":59</td></tr><tr><td>{\"_id\":{\"$oid\":\"67d6ac2540ed52286aac35c4\"}</td><td>\"claim_id\":60</td></tr><tr><td>{\"_id\":{\"$oid\":\"67d6ac2540ed52286aac35c5\"}</td><td>\"claim_id\":61</td></tr><tr><td>{\"_id\":{\"$oid\":\"67d6ac2540ed52286aac35c6\"}</td><td>\"claim_id\":62</td></tr><tr><td>{\"_id\":{\"$oid\":\"67d6ac2540ed52286aac35c7\"}</td><td>\"claim_id\":63</td></tr><tr><td>{\"_id\":{\"$oid\":\"67d6ac2540ed52286aac35c8\"}</td><td>\"claim_id\":64</td></tr><tr><td>{\"_id\":{\"$oid\":\"67d6ac2540ed52286aac35c9\"}</td><td>\"claim_id\":65</td></tr><tr><td>{\"_id\":{\"$oid\":\"67d6ac2540ed52286aac35ca\"}</td><td>\"claim_id\":66</td></tr><tr><td>{\"_id\":{\"$oid\":\"67d6ac2540ed52286aac35cb\"}</td><td>\"claim_id\":67</td></tr><tr><td>{\"_id\":{\"$oid\":\"67d6ac2540ed52286aac35cc\"}</td><td>\"claim_id\":68</td></tr><tr><td>{\"_id\":{\"$oid\":\"67d6ac2540ed52286aac35cd\"}</td><td>\"claim_id\":69</td></tr></tbody></table></div>"
      ]
     },
     "metadata": {
      "application/vnd.databricks.v1+output": {
       "addedWidgets": {},
       "aggData": [],
       "aggError": "",
       "aggOverflow": false,
       "aggSchema": [],
       "aggSeriesLimitReached": false,
       "aggType": "",
       "arguments": {},
       "columnCustomDisplayInfos": {},
       "data": [
        [
         "{\"_id\":{\"$oid\":\"67d6ac2540ed52286aac3588\"}",
         "\"claim_id\":0"
        ],
        [
         "{\"_id\":{\"$oid\":\"67d6ac2540ed52286aac3589\"}",
         "\"claim_id\":1"
        ],
        [
         "{\"_id\":{\"$oid\":\"67d6ac2540ed52286aac358a\"}",
         "\"claim_id\":2"
        ],
        [
         "{\"_id\":{\"$oid\":\"67d6ac2540ed52286aac358b\"}",
         "\"claim_id\":3"
        ],
        [
         "{\"_id\":{\"$oid\":\"67d6ac2540ed52286aac358c\"}",
         "\"claim_id\":4"
        ],
        [
         "{\"_id\":{\"$oid\":\"67d6ac2540ed52286aac358d\"}",
         "\"claim_id\":5"
        ],
        [
         "{\"_id\":{\"$oid\":\"67d6ac2540ed52286aac358e\"}",
         "\"claim_id\":6"
        ],
        [
         "{\"_id\":{\"$oid\":\"67d6ac2540ed52286aac358f\"}",
         "\"claim_id\":7"
        ],
        [
         "{\"_id\":{\"$oid\":\"67d6ac2540ed52286aac3590\"}",
         "\"claim_id\":8"
        ],
        [
         "{\"_id\":{\"$oid\":\"67d6ac2540ed52286aac3591\"}",
         "\"claim_id\":9"
        ],
        [
         "{\"_id\":{\"$oid\":\"67d6ac2540ed52286aac3592\"}",
         "\"claim_id\":10"
        ],
        [
         "{\"_id\":{\"$oid\":\"67d6ac2540ed52286aac3593\"}",
         "\"claim_id\":11"
        ],
        [
         "{\"_id\":{\"$oid\":\"67d6ac2540ed52286aac3594\"}",
         "\"claim_id\":12"
        ],
        [
         "{\"_id\":{\"$oid\":\"67d6ac2540ed52286aac3595\"}",
         "\"claim_id\":13"
        ],
        [
         "{\"_id\":{\"$oid\":\"67d6ac2540ed52286aac3596\"}",
         "\"claim_id\":14"
        ],
        [
         "{\"_id\":{\"$oid\":\"67d6ac2540ed52286aac3597\"}",
         "\"claim_id\":15"
        ],
        [
         "{\"_id\":{\"$oid\":\"67d6ac2540ed52286aac3598\"}",
         "\"claim_id\":16"
        ],
        [
         "{\"_id\":{\"$oid\":\"67d6ac2540ed52286aac3599\"}",
         "\"claim_id\":17"
        ],
        [
         "{\"_id\":{\"$oid\":\"67d6ac2540ed52286aac359a\"}",
         "\"claim_id\":18"
        ],
        [
         "{\"_id\":{\"$oid\":\"67d6ac2540ed52286aac359b\"}",
         "\"claim_id\":19"
        ],
        [
         "{\"_id\":{\"$oid\":\"67d6ac2540ed52286aac359c\"}",
         "\"claim_id\":20"
        ],
        [
         "{\"_id\":{\"$oid\":\"67d6ac2540ed52286aac359d\"}",
         "\"claim_id\":21"
        ],
        [
         "{\"_id\":{\"$oid\":\"67d6ac2540ed52286aac359e\"}",
         "\"claim_id\":22"
        ],
        [
         "{\"_id\":{\"$oid\":\"67d6ac2540ed52286aac359f\"}",
         "\"claim_id\":23"
        ],
        [
         "{\"_id\":{\"$oid\":\"67d6ac2540ed52286aac35a0\"}",
         "\"claim_id\":24"
        ],
        [
         "{\"_id\":{\"$oid\":\"67d6ac2540ed52286aac35a1\"}",
         "\"claim_id\":25"
        ],
        [
         "{\"_id\":{\"$oid\":\"67d6ac2540ed52286aac35a2\"}",
         "\"claim_id\":26"
        ],
        [
         "{\"_id\":{\"$oid\":\"67d6ac2540ed52286aac35a3\"}",
         "\"claim_id\":27"
        ],
        [
         "{\"_id\":{\"$oid\":\"67d6ac2540ed52286aac35a4\"}",
         "\"claim_id\":28"
        ],
        [
         "{\"_id\":{\"$oid\":\"67d6ac2540ed52286aac35a5\"}",
         "\"claim_id\":29"
        ],
        [
         "{\"_id\":{\"$oid\":\"67d6ac2540ed52286aac35a6\"}",
         "\"claim_id\":30"
        ],
        [
         "{\"_id\":{\"$oid\":\"67d6ac2540ed52286aac35a7\"}",
         "\"claim_id\":31"
        ],
        [
         "{\"_id\":{\"$oid\":\"67d6ac2540ed52286aac35a8\"}",
         "\"claim_id\":32"
        ],
        [
         "{\"_id\":{\"$oid\":\"67d6ac2540ed52286aac35a9\"}",
         "\"claim_id\":33"
        ],
        [
         "{\"_id\":{\"$oid\":\"67d6ac2540ed52286aac35aa\"}",
         "\"claim_id\":34"
        ],
        [
         "{\"_id\":{\"$oid\":\"67d6ac2540ed52286aac35ab\"}",
         "\"claim_id\":35"
        ],
        [
         "{\"_id\":{\"$oid\":\"67d6ac2540ed52286aac35ac\"}",
         "\"claim_id\":36"
        ],
        [
         "{\"_id\":{\"$oid\":\"67d6ac2540ed52286aac35ad\"}",
         "\"claim_id\":37"
        ],
        [
         "{\"_id\":{\"$oid\":\"67d6ac2540ed52286aac35ae\"}",
         "\"claim_id\":38"
        ],
        [
         "{\"_id\":{\"$oid\":\"67d6ac2540ed52286aac35af\"}",
         "\"claim_id\":39"
        ],
        [
         "{\"_id\":{\"$oid\":\"67d6ac2540ed52286aac35b0\"}",
         "\"claim_id\":40"
        ],
        [
         "{\"_id\":{\"$oid\":\"67d6ac2540ed52286aac35b1\"}",
         "\"claim_id\":41"
        ],
        [
         "{\"_id\":{\"$oid\":\"67d6ac2540ed52286aac35b2\"}",
         "\"claim_id\":42"
        ],
        [
         "{\"_id\":{\"$oid\":\"67d6ac2540ed52286aac35b3\"}",
         "\"claim_id\":43"
        ],
        [
         "{\"_id\":{\"$oid\":\"67d6ac2540ed52286aac35b4\"}",
         "\"claim_id\":44"
        ],
        [
         "{\"_id\":{\"$oid\":\"67d6ac2540ed52286aac35b5\"}",
         "\"claim_id\":45"
        ],
        [
         "{\"_id\":{\"$oid\":\"67d6ac2540ed52286aac35b6\"}",
         "\"claim_id\":46"
        ],
        [
         "{\"_id\":{\"$oid\":\"67d6ac2540ed52286aac35b7\"}",
         "\"claim_id\":47"
        ],
        [
         "{\"_id\":{\"$oid\":\"67d6ac2540ed52286aac35b8\"}",
         "\"claim_id\":48"
        ],
        [
         "{\"_id\":{\"$oid\":\"67d6ac2540ed52286aac35b9\"}",
         "\"claim_id\":49"
        ],
        [
         "{\"_id\":{\"$oid\":\"67d6ac2540ed52286aac35ba\"}",
         "\"claim_id\":50"
        ],
        [
         "{\"_id\":{\"$oid\":\"67d6ac2540ed52286aac35bb\"}",
         "\"claim_id\":51"
        ],
        [
         "{\"_id\":{\"$oid\":\"67d6ac2540ed52286aac35bc\"}",
         "\"claim_id\":52"
        ],
        [
         "{\"_id\":{\"$oid\":\"67d6ac2540ed52286aac35bd\"}",
         "\"claim_id\":53"
        ],
        [
         "{\"_id\":{\"$oid\":\"67d6ac2540ed52286aac35be\"}",
         "\"claim_id\":54"
        ],
        [
         "{\"_id\":{\"$oid\":\"67d6ac2540ed52286aac35bf\"}",
         "\"claim_id\":55"
        ],
        [
         "{\"_id\":{\"$oid\":\"67d6ac2540ed52286aac35c0\"}",
         "\"claim_id\":56"
        ],
        [
         "{\"_id\":{\"$oid\":\"67d6ac2540ed52286aac35c1\"}",
         "\"claim_id\":57"
        ],
        [
         "{\"_id\":{\"$oid\":\"67d6ac2540ed52286aac35c2\"}",
         "\"claim_id\":58"
        ],
        [
         "{\"_id\":{\"$oid\":\"67d6ac2540ed52286aac35c3\"}",
         "\"claim_id\":59"
        ],
        [
         "{\"_id\":{\"$oid\":\"67d6ac2540ed52286aac35c4\"}",
         "\"claim_id\":60"
        ],
        [
         "{\"_id\":{\"$oid\":\"67d6ac2540ed52286aac35c5\"}",
         "\"claim_id\":61"
        ],
        [
         "{\"_id\":{\"$oid\":\"67d6ac2540ed52286aac35c6\"}",
         "\"claim_id\":62"
        ],
        [
         "{\"_id\":{\"$oid\":\"67d6ac2540ed52286aac35c7\"}",
         "\"claim_id\":63"
        ],
        [
         "{\"_id\":{\"$oid\":\"67d6ac2540ed52286aac35c8\"}",
         "\"claim_id\":64"
        ],
        [
         "{\"_id\":{\"$oid\":\"67d6ac2540ed52286aac35c9\"}",
         "\"claim_id\":65"
        ],
        [
         "{\"_id\":{\"$oid\":\"67d6ac2540ed52286aac35ca\"}",
         "\"claim_id\":66"
        ],
        [
         "{\"_id\":{\"$oid\":\"67d6ac2540ed52286aac35cb\"}",
         "\"claim_id\":67"
        ],
        [
         "{\"_id\":{\"$oid\":\"67d6ac2540ed52286aac35cc\"}",
         "\"claim_id\":68"
        ],
        [
         "{\"_id\":{\"$oid\":\"67d6ac2540ed52286aac35cd\"}",
         "\"claim_id\":69"
        ]
       ],
       "datasetInfos": [],
       "dbfsResultPath": null,
       "isJsonSchema": true,
       "metadata": {},
       "overflow": false,
       "plotOptions": {
        "customPlotOptions": {},
        "displayType": "table",
        "pivotAggregation": null,
        "pivotColumns": null,
        "xColumns": null,
        "yColumns": null
       },
       "removedWidgets": [],
       "schema": [
        {
         "metadata": "{}",
         "name": "{\"_id\":{\"$oid\":\"67d6abc540ed52286aac3587\"}",
         "type": "\"string\""
        },
        {
         "metadata": "{}",
         "name": "\"id\":\"replace_with_new_document_id\"}",
         "type": "\"string\""
        }
       ],
       "type": "table"
      }
     },
     "output_type": "display_data"
    }
   ],
   "source": [
    "display(claim_df)"
   ]
  },
  {
   "cell_type": "code",
   "execution_count": 0,
   "metadata": {
    "application/vnd.databricks.v1+cell": {
     "cellMetadata": {
      "byteLimit": 2048000,
      "rowLimit": 10000
     },
     "inputWidgets": {},
     "nuid": "ef492431-baa4-4504-aaaa-8e8fa0ebce4b",
     "showTitle": false,
     "tableResultSettingsMap": {},
     "title": ""
    }
   },
   "outputs": [
    {
     "output_type": "stream",
     "name": "stdout",
     "output_type": "stream",
     "text": [
      "['{\"_id\":{\"$oid\":\"67d6abc540ed52286aac3587\"}', '\"id\":\"replace_with_new_document_id\"}']\n"
     ]
    }
   ],
   "source": [
    "%python\n",
    "from pyspark.sql.functions import to_date\n",
    "\n",
    "# Drop the columns '_id' and 'id'\n",
    "claim_df = claim_df.drop('_id', 'id')\n",
    "\n",
    "# Replace 'NaN' with None\n",
    "claim_df = claim_df.replace('NaN', None)\n",
    "\n",
    "# Verify the column names\n",
    "print(claim_df.columns)\n",
    "\n",
    "# Fill missing values in the 'Claim_Or_Rejected' column if it exists\n",
    "if 'Claim_Or_Rejected' in claim_df.columns:\n",
    "    claim_df = claim_df.fillna({\"Claim_Or_Rejected\": 'N'})\n",
    "\n",
    "# Convert 'claim_date' to date type if it exists\n",
    "if 'claim_date' in claim_df.columns:\n",
    "    claim_df = claim_df.withColumn('claim_date', to_date(claim_df['claim_date'], 'yyyy-MM-dd'))\n",
    "    display(claim_df)\n",
    "\n",
    "# Cast 'claim_amount' to integer type if it exists\n",
    "if 'claim_amount' in claim_df.columns:\n",
    "    claim_df = claim_df.withColumn('claim_amount', claim_df['claim_amount'].cast('int'))\n",
    "    display(claim_df)"
   ]
  },
  {
   "cell_type": "code",
   "execution_count": 0,
   "metadata": {
    "application/vnd.databricks.v1+cell": {
     "cellMetadata": {
      "byteLimit": 2048000,
      "rowLimit": 10000
     },
     "inputWidgets": {},
     "nuid": "6eb84538-8805-4f1a-bf9e-bf8753864e78",
     "showTitle": false,
     "tableResultSettingsMap": {},
     "title": ""
    }
   },
   "outputs": [
    {
     "output_type": "stream",
     "name": "stdout",
     "output_type": "stream",
     "text": [
      "CSV file successfully written to abfss://optummedilian@adlsoptum.dfs.core.windows.net/Silver//claims_s.csv\n"
     ]
    },
    {
     "output_type": "execute_result",
     "data": {
      "text/plain": [
       "'abfss://optummedilian@adlsoptum.dfs.core.windows.net/Silver//claims_s.csv'"
      ]
     },
     "execution_count": 61,
     "metadata": {},
     "output_type": "execute_result"
    }
   ],
   "source": [
    "write2silverdata(claim_df, \"claims_s.csv\")"
   ]
  },
  {
   "cell_type": "code",
   "execution_count": 0,
   "metadata": {
    "application/vnd.databricks.v1+cell": {
     "cellMetadata": {
      "byteLimit": 2048000,
      "rowLimit": 10000
     },
     "inputWidgets": {},
     "nuid": "5873f84a-3b77-4505-a75f-43a983687ba4",
     "showTitle": false,
     "tableResultSettingsMap": {},
     "title": ""
    }
   },
   "outputs": [
    {
     "output_type": "display_data",
     "data": {
      "text/html": [
       "<style scoped>\n",
       "  .table-result-container {\n",
       "    max-height: 300px;\n",
       "    overflow: auto;\n",
       "  }\n",
       "  table, th, td {\n",
       "    border: 1px solid black;\n",
       "    border-collapse: collapse;\n",
       "  }\n",
       "  th, td {\n",
       "    padding: 5px;\n",
       "  }\n",
       "  th {\n",
       "    text-align: left;\n",
       "  }\n",
       "</style><div class='table-result-container'><table class='table-result'><thead style='background-color: white'><tr><th>{\"_id\":{\"$oid\":\"67d6abc540ed52286aac3587\"}</th><th>\"id\":\"replace_with_new_document_id\"}</th></tr></thead><tbody><tr><td>{\"_id\":{\"$oid\":\"67d6ac2540ed52286aac3588\"}</td><td>\"claim_id\":0</td></tr><tr><td>{\"_id\":{\"$oid\":\"67d6ac2540ed52286aac3589\"}</td><td>\"claim_id\":1</td></tr><tr><td>{\"_id\":{\"$oid\":\"67d6ac2540ed52286aac358a\"}</td><td>\"claim_id\":2</td></tr><tr><td>{\"_id\":{\"$oid\":\"67d6ac2540ed52286aac358b\"}</td><td>\"claim_id\":3</td></tr><tr><td>{\"_id\":{\"$oid\":\"67d6ac2540ed52286aac358c\"}</td><td>\"claim_id\":4</td></tr><tr><td>{\"_id\":{\"$oid\":\"67d6ac2540ed52286aac358d\"}</td><td>\"claim_id\":5</td></tr><tr><td>{\"_id\":{\"$oid\":\"67d6ac2540ed52286aac358e\"}</td><td>\"claim_id\":6</td></tr><tr><td>{\"_id\":{\"$oid\":\"67d6ac2540ed52286aac358f\"}</td><td>\"claim_id\":7</td></tr><tr><td>{\"_id\":{\"$oid\":\"67d6ac2540ed52286aac3590\"}</td><td>\"claim_id\":8</td></tr><tr><td>{\"_id\":{\"$oid\":\"67d6ac2540ed52286aac3591\"}</td><td>\"claim_id\":9</td></tr><tr><td>{\"_id\":{\"$oid\":\"67d6ac2540ed52286aac3592\"}</td><td>\"claim_id\":10</td></tr><tr><td>{\"_id\":{\"$oid\":\"67d6ac2540ed52286aac3593\"}</td><td>\"claim_id\":11</td></tr><tr><td>{\"_id\":{\"$oid\":\"67d6ac2540ed52286aac3594\"}</td><td>\"claim_id\":12</td></tr><tr><td>{\"_id\":{\"$oid\":\"67d6ac2540ed52286aac3595\"}</td><td>\"claim_id\":13</td></tr><tr><td>{\"_id\":{\"$oid\":\"67d6ac2540ed52286aac3596\"}</td><td>\"claim_id\":14</td></tr><tr><td>{\"_id\":{\"$oid\":\"67d6ac2540ed52286aac3597\"}</td><td>\"claim_id\":15</td></tr><tr><td>{\"_id\":{\"$oid\":\"67d6ac2540ed52286aac3598\"}</td><td>\"claim_id\":16</td></tr><tr><td>{\"_id\":{\"$oid\":\"67d6ac2540ed52286aac3599\"}</td><td>\"claim_id\":17</td></tr><tr><td>{\"_id\":{\"$oid\":\"67d6ac2540ed52286aac359a\"}</td><td>\"claim_id\":18</td></tr><tr><td>{\"_id\":{\"$oid\":\"67d6ac2540ed52286aac359b\"}</td><td>\"claim_id\":19</td></tr><tr><td>{\"_id\":{\"$oid\":\"67d6ac2540ed52286aac359c\"}</td><td>\"claim_id\":20</td></tr><tr><td>{\"_id\":{\"$oid\":\"67d6ac2540ed52286aac359d\"}</td><td>\"claim_id\":21</td></tr><tr><td>{\"_id\":{\"$oid\":\"67d6ac2540ed52286aac359e\"}</td><td>\"claim_id\":22</td></tr><tr><td>{\"_id\":{\"$oid\":\"67d6ac2540ed52286aac359f\"}</td><td>\"claim_id\":23</td></tr><tr><td>{\"_id\":{\"$oid\":\"67d6ac2540ed52286aac35a0\"}</td><td>\"claim_id\":24</td></tr><tr><td>{\"_id\":{\"$oid\":\"67d6ac2540ed52286aac35a1\"}</td><td>\"claim_id\":25</td></tr><tr><td>{\"_id\":{\"$oid\":\"67d6ac2540ed52286aac35a2\"}</td><td>\"claim_id\":26</td></tr><tr><td>{\"_id\":{\"$oid\":\"67d6ac2540ed52286aac35a3\"}</td><td>\"claim_id\":27</td></tr><tr><td>{\"_id\":{\"$oid\":\"67d6ac2540ed52286aac35a4\"}</td><td>\"claim_id\":28</td></tr><tr><td>{\"_id\":{\"$oid\":\"67d6ac2540ed52286aac35a5\"}</td><td>\"claim_id\":29</td></tr><tr><td>{\"_id\":{\"$oid\":\"67d6ac2540ed52286aac35a6\"}</td><td>\"claim_id\":30</td></tr><tr><td>{\"_id\":{\"$oid\":\"67d6ac2540ed52286aac35a7\"}</td><td>\"claim_id\":31</td></tr><tr><td>{\"_id\":{\"$oid\":\"67d6ac2540ed52286aac35a8\"}</td><td>\"claim_id\":32</td></tr><tr><td>{\"_id\":{\"$oid\":\"67d6ac2540ed52286aac35a9\"}</td><td>\"claim_id\":33</td></tr><tr><td>{\"_id\":{\"$oid\":\"67d6ac2540ed52286aac35aa\"}</td><td>\"claim_id\":34</td></tr><tr><td>{\"_id\":{\"$oid\":\"67d6ac2540ed52286aac35ab\"}</td><td>\"claim_id\":35</td></tr><tr><td>{\"_id\":{\"$oid\":\"67d6ac2540ed52286aac35ac\"}</td><td>\"claim_id\":36</td></tr><tr><td>{\"_id\":{\"$oid\":\"67d6ac2540ed52286aac35ad\"}</td><td>\"claim_id\":37</td></tr><tr><td>{\"_id\":{\"$oid\":\"67d6ac2540ed52286aac35ae\"}</td><td>\"claim_id\":38</td></tr><tr><td>{\"_id\":{\"$oid\":\"67d6ac2540ed52286aac35af\"}</td><td>\"claim_id\":39</td></tr><tr><td>{\"_id\":{\"$oid\":\"67d6ac2540ed52286aac35b0\"}</td><td>\"claim_id\":40</td></tr><tr><td>{\"_id\":{\"$oid\":\"67d6ac2540ed52286aac35b1\"}</td><td>\"claim_id\":41</td></tr><tr><td>{\"_id\":{\"$oid\":\"67d6ac2540ed52286aac35b2\"}</td><td>\"claim_id\":42</td></tr><tr><td>{\"_id\":{\"$oid\":\"67d6ac2540ed52286aac35b3\"}</td><td>\"claim_id\":43</td></tr><tr><td>{\"_id\":{\"$oid\":\"67d6ac2540ed52286aac35b4\"}</td><td>\"claim_id\":44</td></tr><tr><td>{\"_id\":{\"$oid\":\"67d6ac2540ed52286aac35b5\"}</td><td>\"claim_id\":45</td></tr><tr><td>{\"_id\":{\"$oid\":\"67d6ac2540ed52286aac35b6\"}</td><td>\"claim_id\":46</td></tr><tr><td>{\"_id\":{\"$oid\":\"67d6ac2540ed52286aac35b7\"}</td><td>\"claim_id\":47</td></tr><tr><td>{\"_id\":{\"$oid\":\"67d6ac2540ed52286aac35b8\"}</td><td>\"claim_id\":48</td></tr><tr><td>{\"_id\":{\"$oid\":\"67d6ac2540ed52286aac35b9\"}</td><td>\"claim_id\":49</td></tr><tr><td>{\"_id\":{\"$oid\":\"67d6ac2540ed52286aac35ba\"}</td><td>\"claim_id\":50</td></tr><tr><td>{\"_id\":{\"$oid\":\"67d6ac2540ed52286aac35bb\"}</td><td>\"claim_id\":51</td></tr><tr><td>{\"_id\":{\"$oid\":\"67d6ac2540ed52286aac35bc\"}</td><td>\"claim_id\":52</td></tr><tr><td>{\"_id\":{\"$oid\":\"67d6ac2540ed52286aac35bd\"}</td><td>\"claim_id\":53</td></tr><tr><td>{\"_id\":{\"$oid\":\"67d6ac2540ed52286aac35be\"}</td><td>\"claim_id\":54</td></tr><tr><td>{\"_id\":{\"$oid\":\"67d6ac2540ed52286aac35bf\"}</td><td>\"claim_id\":55</td></tr><tr><td>{\"_id\":{\"$oid\":\"67d6ac2540ed52286aac35c0\"}</td><td>\"claim_id\":56</td></tr><tr><td>{\"_id\":{\"$oid\":\"67d6ac2540ed52286aac35c1\"}</td><td>\"claim_id\":57</td></tr><tr><td>{\"_id\":{\"$oid\":\"67d6ac2540ed52286aac35c2\"}</td><td>\"claim_id\":58</td></tr><tr><td>{\"_id\":{\"$oid\":\"67d6ac2540ed52286aac35c3\"}</td><td>\"claim_id\":59</td></tr><tr><td>{\"_id\":{\"$oid\":\"67d6ac2540ed52286aac35c4\"}</td><td>\"claim_id\":60</td></tr><tr><td>{\"_id\":{\"$oid\":\"67d6ac2540ed52286aac35c5\"}</td><td>\"claim_id\":61</td></tr><tr><td>{\"_id\":{\"$oid\":\"67d6ac2540ed52286aac35c6\"}</td><td>\"claim_id\":62</td></tr><tr><td>{\"_id\":{\"$oid\":\"67d6ac2540ed52286aac35c7\"}</td><td>\"claim_id\":63</td></tr><tr><td>{\"_id\":{\"$oid\":\"67d6ac2540ed52286aac35c8\"}</td><td>\"claim_id\":64</td></tr><tr><td>{\"_id\":{\"$oid\":\"67d6ac2540ed52286aac35c9\"}</td><td>\"claim_id\":65</td></tr><tr><td>{\"_id\":{\"$oid\":\"67d6ac2540ed52286aac35ca\"}</td><td>\"claim_id\":66</td></tr><tr><td>{\"_id\":{\"$oid\":\"67d6ac2540ed52286aac35cb\"}</td><td>\"claim_id\":67</td></tr><tr><td>{\"_id\":{\"$oid\":\"67d6ac2540ed52286aac35cc\"}</td><td>\"claim_id\":68</td></tr><tr><td>{\"_id\":{\"$oid\":\"67d6ac2540ed52286aac35cd\"}</td><td>\"claim_id\":69</td></tr></tbody></table></div>"
      ]
     },
     "metadata": {
      "application/vnd.databricks.v1+output": {
       "addedWidgets": {},
       "aggData": [],
       "aggError": "",
       "aggOverflow": false,
       "aggSchema": [],
       "aggSeriesLimitReached": false,
       "aggType": "",
       "arguments": {},
       "columnCustomDisplayInfos": {},
       "data": [
        [
         "{\"_id\":{\"$oid\":\"67d6ac2540ed52286aac3588\"}",
         "\"claim_id\":0"
        ],
        [
         "{\"_id\":{\"$oid\":\"67d6ac2540ed52286aac3589\"}",
         "\"claim_id\":1"
        ],
        [
         "{\"_id\":{\"$oid\":\"67d6ac2540ed52286aac358a\"}",
         "\"claim_id\":2"
        ],
        [
         "{\"_id\":{\"$oid\":\"67d6ac2540ed52286aac358b\"}",
         "\"claim_id\":3"
        ],
        [
         "{\"_id\":{\"$oid\":\"67d6ac2540ed52286aac358c\"}",
         "\"claim_id\":4"
        ],
        [
         "{\"_id\":{\"$oid\":\"67d6ac2540ed52286aac358d\"}",
         "\"claim_id\":5"
        ],
        [
         "{\"_id\":{\"$oid\":\"67d6ac2540ed52286aac358e\"}",
         "\"claim_id\":6"
        ],
        [
         "{\"_id\":{\"$oid\":\"67d6ac2540ed52286aac358f\"}",
         "\"claim_id\":7"
        ],
        [
         "{\"_id\":{\"$oid\":\"67d6ac2540ed52286aac3590\"}",
         "\"claim_id\":8"
        ],
        [
         "{\"_id\":{\"$oid\":\"67d6ac2540ed52286aac3591\"}",
         "\"claim_id\":9"
        ],
        [
         "{\"_id\":{\"$oid\":\"67d6ac2540ed52286aac3592\"}",
         "\"claim_id\":10"
        ],
        [
         "{\"_id\":{\"$oid\":\"67d6ac2540ed52286aac3593\"}",
         "\"claim_id\":11"
        ],
        [
         "{\"_id\":{\"$oid\":\"67d6ac2540ed52286aac3594\"}",
         "\"claim_id\":12"
        ],
        [
         "{\"_id\":{\"$oid\":\"67d6ac2540ed52286aac3595\"}",
         "\"claim_id\":13"
        ],
        [
         "{\"_id\":{\"$oid\":\"67d6ac2540ed52286aac3596\"}",
         "\"claim_id\":14"
        ],
        [
         "{\"_id\":{\"$oid\":\"67d6ac2540ed52286aac3597\"}",
         "\"claim_id\":15"
        ],
        [
         "{\"_id\":{\"$oid\":\"67d6ac2540ed52286aac3598\"}",
         "\"claim_id\":16"
        ],
        [
         "{\"_id\":{\"$oid\":\"67d6ac2540ed52286aac3599\"}",
         "\"claim_id\":17"
        ],
        [
         "{\"_id\":{\"$oid\":\"67d6ac2540ed52286aac359a\"}",
         "\"claim_id\":18"
        ],
        [
         "{\"_id\":{\"$oid\":\"67d6ac2540ed52286aac359b\"}",
         "\"claim_id\":19"
        ],
        [
         "{\"_id\":{\"$oid\":\"67d6ac2540ed52286aac359c\"}",
         "\"claim_id\":20"
        ],
        [
         "{\"_id\":{\"$oid\":\"67d6ac2540ed52286aac359d\"}",
         "\"claim_id\":21"
        ],
        [
         "{\"_id\":{\"$oid\":\"67d6ac2540ed52286aac359e\"}",
         "\"claim_id\":22"
        ],
        [
         "{\"_id\":{\"$oid\":\"67d6ac2540ed52286aac359f\"}",
         "\"claim_id\":23"
        ],
        [
         "{\"_id\":{\"$oid\":\"67d6ac2540ed52286aac35a0\"}",
         "\"claim_id\":24"
        ],
        [
         "{\"_id\":{\"$oid\":\"67d6ac2540ed52286aac35a1\"}",
         "\"claim_id\":25"
        ],
        [
         "{\"_id\":{\"$oid\":\"67d6ac2540ed52286aac35a2\"}",
         "\"claim_id\":26"
        ],
        [
         "{\"_id\":{\"$oid\":\"67d6ac2540ed52286aac35a3\"}",
         "\"claim_id\":27"
        ],
        [
         "{\"_id\":{\"$oid\":\"67d6ac2540ed52286aac35a4\"}",
         "\"claim_id\":28"
        ],
        [
         "{\"_id\":{\"$oid\":\"67d6ac2540ed52286aac35a5\"}",
         "\"claim_id\":29"
        ],
        [
         "{\"_id\":{\"$oid\":\"67d6ac2540ed52286aac35a6\"}",
         "\"claim_id\":30"
        ],
        [
         "{\"_id\":{\"$oid\":\"67d6ac2540ed52286aac35a7\"}",
         "\"claim_id\":31"
        ],
        [
         "{\"_id\":{\"$oid\":\"67d6ac2540ed52286aac35a8\"}",
         "\"claim_id\":32"
        ],
        [
         "{\"_id\":{\"$oid\":\"67d6ac2540ed52286aac35a9\"}",
         "\"claim_id\":33"
        ],
        [
         "{\"_id\":{\"$oid\":\"67d6ac2540ed52286aac35aa\"}",
         "\"claim_id\":34"
        ],
        [
         "{\"_id\":{\"$oid\":\"67d6ac2540ed52286aac35ab\"}",
         "\"claim_id\":35"
        ],
        [
         "{\"_id\":{\"$oid\":\"67d6ac2540ed52286aac35ac\"}",
         "\"claim_id\":36"
        ],
        [
         "{\"_id\":{\"$oid\":\"67d6ac2540ed52286aac35ad\"}",
         "\"claim_id\":37"
        ],
        [
         "{\"_id\":{\"$oid\":\"67d6ac2540ed52286aac35ae\"}",
         "\"claim_id\":38"
        ],
        [
         "{\"_id\":{\"$oid\":\"67d6ac2540ed52286aac35af\"}",
         "\"claim_id\":39"
        ],
        [
         "{\"_id\":{\"$oid\":\"67d6ac2540ed52286aac35b0\"}",
         "\"claim_id\":40"
        ],
        [
         "{\"_id\":{\"$oid\":\"67d6ac2540ed52286aac35b1\"}",
         "\"claim_id\":41"
        ],
        [
         "{\"_id\":{\"$oid\":\"67d6ac2540ed52286aac35b2\"}",
         "\"claim_id\":42"
        ],
        [
         "{\"_id\":{\"$oid\":\"67d6ac2540ed52286aac35b3\"}",
         "\"claim_id\":43"
        ],
        [
         "{\"_id\":{\"$oid\":\"67d6ac2540ed52286aac35b4\"}",
         "\"claim_id\":44"
        ],
        [
         "{\"_id\":{\"$oid\":\"67d6ac2540ed52286aac35b5\"}",
         "\"claim_id\":45"
        ],
        [
         "{\"_id\":{\"$oid\":\"67d6ac2540ed52286aac35b6\"}",
         "\"claim_id\":46"
        ],
        [
         "{\"_id\":{\"$oid\":\"67d6ac2540ed52286aac35b7\"}",
         "\"claim_id\":47"
        ],
        [
         "{\"_id\":{\"$oid\":\"67d6ac2540ed52286aac35b8\"}",
         "\"claim_id\":48"
        ],
        [
         "{\"_id\":{\"$oid\":\"67d6ac2540ed52286aac35b9\"}",
         "\"claim_id\":49"
        ],
        [
         "{\"_id\":{\"$oid\":\"67d6ac2540ed52286aac35ba\"}",
         "\"claim_id\":50"
        ],
        [
         "{\"_id\":{\"$oid\":\"67d6ac2540ed52286aac35bb\"}",
         "\"claim_id\":51"
        ],
        [
         "{\"_id\":{\"$oid\":\"67d6ac2540ed52286aac35bc\"}",
         "\"claim_id\":52"
        ],
        [
         "{\"_id\":{\"$oid\":\"67d6ac2540ed52286aac35bd\"}",
         "\"claim_id\":53"
        ],
        [
         "{\"_id\":{\"$oid\":\"67d6ac2540ed52286aac35be\"}",
         "\"claim_id\":54"
        ],
        [
         "{\"_id\":{\"$oid\":\"67d6ac2540ed52286aac35bf\"}",
         "\"claim_id\":55"
        ],
        [
         "{\"_id\":{\"$oid\":\"67d6ac2540ed52286aac35c0\"}",
         "\"claim_id\":56"
        ],
        [
         "{\"_id\":{\"$oid\":\"67d6ac2540ed52286aac35c1\"}",
         "\"claim_id\":57"
        ],
        [
         "{\"_id\":{\"$oid\":\"67d6ac2540ed52286aac35c2\"}",
         "\"claim_id\":58"
        ],
        [
         "{\"_id\":{\"$oid\":\"67d6ac2540ed52286aac35c3\"}",
         "\"claim_id\":59"
        ],
        [
         "{\"_id\":{\"$oid\":\"67d6ac2540ed52286aac35c4\"}",
         "\"claim_id\":60"
        ],
        [
         "{\"_id\":{\"$oid\":\"67d6ac2540ed52286aac35c5\"}",
         "\"claim_id\":61"
        ],
        [
         "{\"_id\":{\"$oid\":\"67d6ac2540ed52286aac35c6\"}",
         "\"claim_id\":62"
        ],
        [
         "{\"_id\":{\"$oid\":\"67d6ac2540ed52286aac35c7\"}",
         "\"claim_id\":63"
        ],
        [
         "{\"_id\":{\"$oid\":\"67d6ac2540ed52286aac35c8\"}",
         "\"claim_id\":64"
        ],
        [
         "{\"_id\":{\"$oid\":\"67d6ac2540ed52286aac35c9\"}",
         "\"claim_id\":65"
        ],
        [
         "{\"_id\":{\"$oid\":\"67d6ac2540ed52286aac35ca\"}",
         "\"claim_id\":66"
        ],
        [
         "{\"_id\":{\"$oid\":\"67d6ac2540ed52286aac35cb\"}",
         "\"claim_id\":67"
        ],
        [
         "{\"_id\":{\"$oid\":\"67d6ac2540ed52286aac35cc\"}",
         "\"claim_id\":68"
        ],
        [
         "{\"_id\":{\"$oid\":\"67d6ac2540ed52286aac35cd\"}",
         "\"claim_id\":69"
        ]
       ],
       "datasetInfos": [],
       "dbfsResultPath": null,
       "isJsonSchema": true,
       "metadata": {},
       "overflow": false,
       "plotOptions": {
        "customPlotOptions": {},
        "displayType": "table",
        "pivotAggregation": null,
        "pivotColumns": null,
        "xColumns": null,
        "yColumns": null
       },
       "removedWidgets": [],
       "schema": [
        {
         "metadata": "{}",
         "name": "{\"_id\":{\"$oid\":\"67d6abc540ed52286aac3587\"}",
         "type": "\"string\""
        },
        {
         "metadata": "{}",
         "name": "\"id\":\"replace_with_new_document_id\"}",
         "type": "\"string\""
        }
       ],
       "type": "table"
      }
     },
     "output_type": "display_data"
    }
   ],
   "source": [
    "display(claim_df)"
   ]
  }
 ],
 "metadata": {
  "application/vnd.databricks.v1+notebook": {
   "computePreferences": null,
   "dashboards": [],
   "environmentMetadata": {
    "base_environment": "",
    "environment_version": "2"
   },
   "language": "python",
   "notebookMetadata": {
    "pythonIndentUnit": 4
   },
   "notebookName": "claims_transformation",
   "widgets": {}
  },
  "language_info": {
   "name": "python"
  }
 },
 "nbformat": 4,
 "nbformat_minor": 0
}