{
 "cells": [
  {
   "cell_type": "code",
   "execution_count": 0,
   "metadata": {
    "application/vnd.databricks.v1+cell": {
     "cellMetadata": {
      "byteLimit": 2048000,
      "rowLimit": 10000
     },
     "inputWidgets": {},
     "nuid": "a12e7bda-d887-4247-9ed6-40b2e8582664",
     "showTitle": false,
     "tableResultSettingsMap": {},
     "title": ""
    }
   },
   "outputs": [],
   "source": [
    "%run /Workspace/Shared/optum/connectors"
   ]
  },
  {
   "cell_type": "code",
   "execution_count": 0,
   "metadata": {
    "application/vnd.databricks.v1+cell": {
     "cellMetadata": {
      "byteLimit": 2048000,
      "rowLimit": 10000
     },
     "inputWidgets": {},
     "nuid": "56945b38-1848-40f4-b156-4dec6dc87cd4",
     "showTitle": false,
     "tableResultSettingsMap": {},
     "title": ""
    }
   },
   "outputs": [],
   "source": [
    "%run /Workspace/Shared/optum/datacleaning"
   ]
  },
  {
   "cell_type": "code",
   "execution_count": 0,
   "metadata": {
    "application/vnd.databricks.v1+cell": {
     "cellMetadata": {
      "byteLimit": 2048000,
      "rowLimit": 10000
     },
     "inputWidgets": {},
     "nuid": "0cc74718-4520-4279-93ba-91b0ad504687",
     "showTitle": false,
     "tableResultSettingsMap": {},
     "title": ""
    }
   },
   "outputs": [],
   "source": [
    "df= readbronzedata(\"`hospital`.csv\")"
   ]
  },
  {
   "cell_type": "code",
   "execution_count": 0,
   "metadata": {
    "application/vnd.databricks.v1+cell": {
     "cellMetadata": {
      "byteLimit": 2048000,
      "rowLimit": 10000
     },
     "inputWidgets": {},
     "nuid": "990236e9-44d5-4130-afd9-94a0d27d2161",
     "showTitle": false,
     "tableResultSettingsMap": {},
     "title": ""
    }
   },
   "outputs": [],
   "source": [
    "df = df.replace('NaN', None)\n",
    "df= df.fillna({'state': 'UT'})\n",
    "df=df.replace('New Delhi','Delhi')\n"
   ]
  },
  {
   "cell_type": "code",
   "execution_count": 0,
   "metadata": {
    "application/vnd.databricks.v1+cell": {
     "cellMetadata": {
      "byteLimit": 2048000,
      "rowLimit": 10000
     },
     "inputWidgets": {},
     "nuid": "061537d2-5ad7-4933-87b7-992e3126e2f7",
     "showTitle": false,
     "tableResultSettingsMap": {},
     "title": ""
    }
   },
   "outputs": [
    {
     "output_type": "stream",
     "name": "stdout",
     "output_type": "stream",
     "text": [
      "CSV file successfully written to abfss://optummedilian@adlsoptum.dfs.core.windows.net/Silver//hospital_s.csv\n"
     ]
    },
    {
     "output_type": "execute_result",
     "data": {
      "text/plain": [
       "'abfss://optummedilian@adlsoptum.dfs.core.windows.net/Silver//hospital_s.csv'"
      ]
     },
     "execution_count": 175,
     "metadata": {},
     "output_type": "execute_result"
    }
   ],
   "source": [
    "write2silverdata(df, \"hospital_s.csv\")"
   ]
  },
  {
   "cell_type": "code",
   "execution_count": 0,
   "metadata": {
    "application/vnd.databricks.v1+cell": {
     "cellMetadata": {
      "byteLimit": 2048000,
      "rowLimit": 10000
     },
     "inputWidgets": {},
     "nuid": "392d7aa1-d48b-48a7-910f-71055224e039",
     "showTitle": false,
     "tableResultSettingsMap": {},
     "title": ""
    }
   },
   "outputs": [
    {
     "output_type": "display_data",
     "data": {
      "text/html": [
       "<style scoped>\n",
       "  .table-result-container {\n",
       "    max-height: 300px;\n",
       "    overflow: auto;\n",
       "  }\n",
       "  table, th, td {\n",
       "    border: 1px solid black;\n",
       "    border-collapse: collapse;\n",
       "  }\n",
       "  th, td {\n",
       "    padding: 5px;\n",
       "  }\n",
       "  th {\n",
       "    text-align: left;\n",
       "  }\n",
       "</style><div class='table-result-container'><table class='table-result'><thead style='background-color: white'><tr><th>Hospital_id</th><th>Hospital_name</th><th>city</th><th>state</th><th>country</th></tr></thead><tbody><tr><td>H1000</td><td>All India Institute of Medical Sciences</td><td>New Delhi</td><td>NaN</td><td>India</td></tr><tr><td>H1001</td><td>Medanta The Medicity</td><td>Gurgaon</td><td>Haryana</td><td>India</td></tr><tr><td>H1002</td><td>The Christian Medical College</td><td>Vellore</td><td>Tamil Nadu</td><td>India</td></tr><tr><td>H1003</td><td>PGIMER - Postgraduate Institute of Medical Education and Research</td><td>Chandigarh</td><td>Haryana</td><td>India</td></tr><tr><td>H1004</td><td>Apollo Hospital - Chennai</td><td>Chennai</td><td>Tamil Nadu</td><td>India</td></tr><tr><td>H1005</td><td>P. D. Hinduja National Hospital & Medical Research Centre</td><td>Mumbai</td><td>Maharashtra</td><td>India</td></tr><tr><td>H1006</td><td>Breach Candy Hospital</td><td>Mumbai</td><td>Maharashtra</td><td>India</td></tr><tr><td>H1007</td><td>Fortis Flt. Lt. Rajan Dhall Hospital</td><td>New Delhi</td><td>NaN</td><td>India</td></tr><tr><td>H1008</td><td>King Edward Memorial Hospital</td><td>Mumbai</td><td>Maharashtra</td><td>India</td></tr><tr><td>H1009</td><td>Indraprastha Apollo Hospital</td><td>Delhi</td><td>NaN</td><td>India</td></tr><tr><td>H1010</td><td>Lilavati Hospital And Research Centre</td><td>Mumbai</td><td>Maharashtra</td><td>India</td></tr><tr><td>H1011</td><td>Sir Ganga Ram Hospital</td><td>Delhi</td><td>NaN</td><td>India</td></tr><tr><td>H1012</td><td>Bombay Hospital & Medical Research Centre</td><td>Mumbai</td><td>Maharashtra</td><td>India</td></tr><tr><td>H1013</td><td>Apollo Health City - Jubilee Hills</td><td>Hyderabad</td><td>Telangana</td><td>India</td></tr><tr><td>H1014</td><td>Fortis Hiranandani Hospital</td><td>Mumbai</td><td>Maharashtra</td><td>India</td></tr><tr><td>H1015</td><td>Fortis Hospital Mulund</td><td>Mumbai</td><td>Maharashtra</td><td>India</td></tr><tr><td>H1016</td><td>Jaslok Hospital and Research Centre</td><td>Mumbai</td><td>Maharashtra</td><td>India</td></tr><tr><td>H1017</td><td>Manipal Hospitals</td><td>Bengaluru</td><td>Karnataka</td><td>India</td></tr><tr><td>H1018</td><td>Yashoda Hospital Secunderabad</td><td>Hyderabad</td><td>Telangana</td><td>India</td></tr><tr><td>H1019</td><td>Apollo Hospitals - Bannerghatta Road</td><td>Bengaluru</td><td>Karnataka</td><td>India</td></tr></tbody></table></div>"
      ]
     },
     "metadata": {
      "application/vnd.databricks.v1+output": {
       "addedWidgets": {},
       "aggData": [],
       "aggError": "",
       "aggOverflow": false,
       "aggSchema": [],
       "aggSeriesLimitReached": false,
       "aggType": "",
       "arguments": {},
       "columnCustomDisplayInfos": {},
       "data": [
        [
         "H1000",
         "All India Institute of Medical Sciences",
         "New Delhi",
         "NaN",
         "India"
        ],
        [
         "H1001",
         "Medanta The Medicity",
         "Gurgaon",
         "Haryana",
         "India"
        ],
        [
         "H1002",
         "The Christian Medical College",
         "Vellore",
         "Tamil Nadu",
         "India"
        ],
        [
         "H1003",
         "PGIMER - Postgraduate Institute of Medical Education and Research",
         "Chandigarh",
         "Haryana",
         "India"
        ],
        [
         "H1004",
         "Apollo Hospital - Chennai",
         "Chennai",
         "Tamil Nadu",
         "India"
        ],
        [
         "H1005",
         "P. D. Hinduja National Hospital & Medical Research Centre",
         "Mumbai",
         "Maharashtra",
         "India"
        ],
        [
         "H1006",
         "Breach Candy Hospital",
         "Mumbai",
         "Maharashtra",
         "India"
        ],
        [
         "H1007",
         "Fortis Flt. Lt. Rajan Dhall Hospital",
         "New Delhi",
         "NaN",
         "India"
        ],
        [
         "H1008",
         "King Edward Memorial Hospital",
         "Mumbai",
         "Maharashtra",
         "India"
        ],
        [
         "H1009",
         "Indraprastha Apollo Hospital",
         "Delhi",
         "NaN",
         "India"
        ],
        [
         "H1010",
         "Lilavati Hospital And Research Centre",
         "Mumbai",
         "Maharashtra",
         "India"
        ],
        [
         "H1011",
         "Sir Ganga Ram Hospital",
         "Delhi",
         "NaN",
         "India"
        ],
        [
         "H1012",
         "Bombay Hospital & Medical Research Centre",
         "Mumbai",
         "Maharashtra",
         "India"
        ],
        [
         "H1013",
         "Apollo Health City - Jubilee Hills",
         "Hyderabad",
         "Telangana",
         "India"
        ],
        [
         "H1014",
         "Fortis Hiranandani Hospital",
         "Mumbai",
         "Maharashtra",
         "India"
        ],
        [
         "H1015",
         "Fortis Hospital Mulund",
         "Mumbai",
         "Maharashtra",
         "India"
        ],
        [
         "H1016",
         "Jaslok Hospital and Research Centre",
         "Mumbai",
         "Maharashtra",
         "India"
        ],
        [
         "H1017",
         "Manipal Hospitals",
         "Bengaluru",
         "Karnataka",
         "India"
        ],
        [
         "H1018",
         "Yashoda Hospital Secunderabad",
         "Hyderabad",
         "Telangana",
         "India"
        ],
        [
         "H1019",
         "Apollo Hospitals - Bannerghatta Road",
         "Bengaluru",
         "Karnataka",
         "India"
        ]
       ],
       "datasetInfos": [],
       "dbfsResultPath": null,
       "isJsonSchema": true,
       "metadata": {},
       "overflow": false,
       "plotOptions": {
        "customPlotOptions": {},
        "displayType": "table",
        "pivotAggregation": null,
        "pivotColumns": null,
        "xColumns": null,
        "yColumns": null
       },
       "removedWidgets": [],
       "schema": [
        {
         "metadata": "{}",
         "name": "Hospital_id",
         "type": "\"string\""
        },
        {
         "metadata": "{}",
         "name": "Hospital_name",
         "type": "\"string\""
        },
        {
         "metadata": "{}",
         "name": "city",
         "type": "\"string\""
        },
        {
         "metadata": "{}",
         "name": "state",
         "type": "\"string\""
        },
        {
         "metadata": "{}",
         "name": "country",
         "type": "\"string\""
        }
       ],
       "type": "table"
      }
     },
     "output_type": "display_data"
    }
   ],
   "source": [
    "display(df)"
   ]
  }
 ],
 "metadata": {
  "application/vnd.databricks.v1+notebook": {
   "computePreferences": null,
   "dashboards": [],
   "environmentMetadata": {
    "base_environment": "",
    "environment_version": "2"
   },
   "language": "python",
   "notebookMetadata": {
    "pythonIndentUnit": 4
   },
   "notebookName": "hospital_transformation",
   "widgets": {}
  },
  "language_info": {
   "name": "python"
  }
 },
 "nbformat": 4,
 "nbformat_minor": 0
}