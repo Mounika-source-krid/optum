{
 "cells": [
  {
   "cell_type": "code",
   "execution_count": 0,
   "metadata": {
    "application/vnd.databricks.v1+cell": {
     "cellMetadata": {
      "byteLimit": 2048000,
      "rowLimit": 10000
     },
     "inputWidgets": {},
     "nuid": "0b86f99e-53b9-4e26-bf8b-ed888e0b8348",
     "showTitle": false,
     "tableResultSettingsMap": {},
     "title": ""
    }
   },
   "outputs": [],
   "source": [
    "%run /Workspace/Shared/optum/connectors"
   ]
  },
  {
   "cell_type": "code",
   "execution_count": 0,
   "metadata": {
    "application/vnd.databricks.v1+cell": {
     "cellMetadata": {
      "byteLimit": 2048000,
      "rowLimit": 10000
     },
     "inputWidgets": {},
     "nuid": "5c410ec2-e810-4a7a-9465-79966bf7298f",
     "showTitle": false,
     "tableResultSettingsMap": {},
     "title": ""
    }
   },
   "outputs": [],
   "source": [
    "%run /Workspace/Shared/optum/datacleaning"
   ]
  },
  {
   "cell_type": "code",
   "execution_count": 0,
   "metadata": {
    "application/vnd.databricks.v1+cell": {
     "cellMetadata": {
      "byteLimit": 2048000,
      "rowLimit": 10000
     },
     "inputWidgets": {},
     "nuid": "2611b520-bb1f-40af-a9e1-0959e29fb0b6",
     "showTitle": false,
     "tableResultSettingsMap": {},
     "title": ""
    }
   },
   "outputs": [],
   "source": [
    "subgrp_df = readbronzedata('subgroup.csv')"
   ]
  },
  {
   "cell_type": "code",
   "execution_count": 0,
   "metadata": {
    "application/vnd.databricks.v1+cell": {
     "cellMetadata": {
      "byteLimit": 2048000,
      "rowLimit": 10000
     },
     "inputWidgets": {},
     "nuid": "b36c5692-9f79-4fb0-9f96-10313a3a4eb8",
     "showTitle": false,
     "tableResultSettingsMap": {},
     "title": ""
    }
   },
   "outputs": [],
   "source": [
    "subgrp_df=subgrp_df.withColumn(\"subgrp_id\",explode(split(col(\"subgrp_id\"), ',')))"
   ]
  },
  {
   "cell_type": "code",
   "execution_count": 0,
   "metadata": {
    "application/vnd.databricks.v1+cell": {
     "cellMetadata": {
      "byteLimit": 2048000,
      "rowLimit": 10000
     },
     "inputWidgets": {},
     "nuid": "6eb84538-8805-4f1a-bf9e-bf8753864e78",
     "showTitle": false,
     "tableResultSettingsMap": {},
     "title": ""
    }
   },
   "outputs": [
    {
     "output_type": "stream",
     "name": "stdout",
     "output_type": "stream",
     "text": [
      "CSV file successfully written to abfss://optummedilian@adlsoptum.dfs.core.windows.net/Silver//subgroup_s.csv\n"
     ]
    },
    {
     "output_type": "execute_result",
     "data": {
      "text/plain": [
       "'abfss://optummedilian@adlsoptum.dfs.core.windows.net/Silver//subgroup_s.csv'"
      ]
     },
     "execution_count": 14,
     "metadata": {},
     "output_type": "execute_result"
    }
   ],
   "source": [
    "write2silverdata(subgrp_df, \"subgroup_s.csv\")"
   ]
  },
  {
   "cell_type": "code",
   "execution_count": 0,
   "metadata": {
    "application/vnd.databricks.v1+cell": {
     "cellMetadata": {
      "byteLimit": 2048000,
      "rowLimit": 10000
     },
     "inputWidgets": {},
     "nuid": "c9ec242a-19ac-4f3e-904e-e5b34fe0215f",
     "showTitle": false,
     "tableResultSettingsMap": {},
     "title": ""
    }
   },
   "outputs": [
    {
     "output_type": "display_data",
     "data": {
      "text/html": [
       "<style scoped>\n",
       "  .table-result-container {\n",
       "    max-height: 300px;\n",
       "    overflow: auto;\n",
       "  }\n",
       "  table, th, td {\n",
       "    border: 1px solid black;\n",
       "    border-collapse: collapse;\n",
       "  }\n",
       "  th, td {\n",
       "    padding: 5px;\n",
       "  }\n",
       "  th {\n",
       "    text-align: left;\n",
       "  }\n",
       "</style><div class='table-result-container'><table class='table-result'><thead style='background-color: white'><tr><th>subgrp_sk</th><th>subgrp_name</th><th>monthly_premium</th><th>subgrp_id</th></tr></thead><tbody><tr><td>S101</td><td>Deficiency Diseases</td><td>3000</td><td>GRP101</td></tr><tr><td>S101</td><td>Deficiency Diseases</td><td>3000</td><td>GRP105</td></tr><tr><td>S102</td><td>Accident</td><td>1000</td><td>GRP110</td></tr><tr><td>S102</td><td>Accident</td><td>1000</td><td>GRP150</td></tr><tr><td>S102</td><td>Accident</td><td>1000</td><td>GRP136</td></tr><tr><td>S103</td><td>Physiology</td><td>2000</td><td>GRP122</td></tr><tr><td>S103</td><td>Physiology</td><td>2000</td><td>GRP108</td></tr><tr><td>S103</td><td>Physiology</td><td>2000</td><td>GRP138</td></tr><tr><td>S103</td><td>Physiology</td><td>2000</td><td>GRP148</td></tr><tr><td>S104</td><td>Therapy</td><td>1500</td><td>GRP103</td></tr><tr><td>S104</td><td>Therapy</td><td>1500</td><td>GRP113</td></tr><tr><td>S104</td><td>Therapy</td><td>1500</td><td>GRP123</td></tr><tr><td>S104</td><td>Therapy</td><td>1500</td><td>GRP133</td></tr><tr><td>S104</td><td>Therapy</td><td>1500</td><td>GRP143</td></tr><tr><td>S105</td><td>Allergies</td><td>2300</td><td>GRP153</td></tr><tr><td>S105</td><td>Allergies</td><td>2300</td><td>GRP104</td></tr><tr><td>S105</td><td>Allergies</td><td>2300</td><td>GRP114</td></tr><tr><td>S105</td><td>Allergies</td><td>2300</td><td>GRP124</td></tr><tr><td>S106</td><td>Self inflicted</td><td>1200</td><td>GRP117</td></tr><tr><td>S106</td><td>Self inflicted</td><td>1200</td><td>GRP127</td></tr><tr><td>S106</td><td>Self inflicted</td><td>1200</td><td>GRP137</td></tr><tr><td>S106</td><td>Self inflicted</td><td>1200</td><td>GRP147</td></tr><tr><td>S106</td><td>Self inflicted</td><td>1200</td><td>GRP157</td></tr><tr><td>S107</td><td>Cancer</td><td>3200</td><td>GRP151</td></tr><tr><td>S107</td><td>Cancer</td><td>3200</td><td>GRP131</td></tr><tr><td>S107</td><td>Cancer</td><td>3200</td><td>GRP141</td></tr><tr><td>S107</td><td>Cancer</td><td>3200</td><td>GRP121</td></tr><tr><td>S108</td><td>Infectious disease</td><td>1500</td><td>GRP130</td></tr><tr><td>S108</td><td>Infectious disease</td><td>1500</td><td>GRP104</td></tr><tr><td>S108</td><td>Infectious disease</td><td>1500</td><td>GRP109</td></tr><tr><td>S109</td><td>Hereditary</td><td>2000</td><td>GRP102</td></tr><tr><td>S109</td><td>Hereditary</td><td>2000</td><td>GRP112</td></tr><tr><td>S109</td><td>Hereditary</td><td>2000</td><td>GRP132</td></tr><tr><td>S109</td><td>Hereditary</td><td>2000</td><td>GRP142</td></tr><tr><td>S109</td><td>Hereditary</td><td>2000</td><td>GRP152</td></tr><tr><td>S110</td><td>Viral</td><td>1000</td><td>GRP143</td></tr><tr><td>S110</td><td>Viral</td><td>1000</td><td>GRP147</td></tr><tr><td>S110</td><td>Viral</td><td>1000</td><td>GRP126</td></tr></tbody></table></div>"
      ]
     },
     "metadata": {
      "application/vnd.databricks.v1+output": {
       "addedWidgets": {},
       "aggData": [],
       "aggError": "",
       "aggOverflow": false,
       "aggSchema": [],
       "aggSeriesLimitReached": false,
       "aggType": "",
       "arguments": {},
       "columnCustomDisplayInfos": {},
       "data": [
        [
         "S101",
         "Deficiency Diseases",
         "3000",
         "GRP101"
        ],
        [
         "S101",
         "Deficiency Diseases",
         "3000",
         "GRP105"
        ],
        [
         "S102",
         "Accident",
         "1000",
         "GRP110"
        ],
        [
         "S102",
         "Accident",
         "1000",
         "GRP150"
        ],
        [
         "S102",
         "Accident",
         "1000",
         "GRP136"
        ],
        [
         "S103",
         "Physiology",
         "2000",
         "GRP122"
        ],
        [
         "S103",
         "Physiology",
         "2000",
         "GRP108"
        ],
        [
         "S103",
         "Physiology",
         "2000",
         "GRP138"
        ],
        [
         "S103",
         "Physiology",
         "2000",
         "GRP148"
        ],
        [
         "S104",
         "Therapy",
         "1500",
         "GRP103"
        ],
        [
         "S104",
         "Therapy",
         "1500",
         "GRP113"
        ],
        [
         "S104",
         "Therapy",
         "1500",
         "GRP123"
        ],
        [
         "S104",
         "Therapy",
         "1500",
         "GRP133"
        ],
        [
         "S104",
         "Therapy",
         "1500",
         "GRP143"
        ],
        [
         "S105",
         "Allergies",
         "2300",
         "GRP153"
        ],
        [
         "S105",
         "Allergies",
         "2300",
         "GRP104"
        ],
        [
         "S105",
         "Allergies",
         "2300",
         "GRP114"
        ],
        [
         "S105",
         "Allergies",
         "2300",
         "GRP124"
        ],
        [
         "S106",
         "Self inflicted",
         "1200",
         "GRP117"
        ],
        [
         "S106",
         "Self inflicted",
         "1200",
         "GRP127"
        ],
        [
         "S106",
         "Self inflicted",
         "1200",
         "GRP137"
        ],
        [
         "S106",
         "Self inflicted",
         "1200",
         "GRP147"
        ],
        [
         "S106",
         "Self inflicted",
         "1200",
         "GRP157"
        ],
        [
         "S107",
         "Cancer",
         "3200",
         "GRP151"
        ],
        [
         "S107",
         "Cancer",
         "3200",
         "GRP131"
        ],
        [
         "S107",
         "Cancer",
         "3200",
         "GRP141"
        ],
        [
         "S107",
         "Cancer",
         "3200",
         "GRP121"
        ],
        [
         "S108",
         "Infectious disease",
         "1500",
         "GRP130"
        ],
        [
         "S108",
         "Infectious disease",
         "1500",
         "GRP104"
        ],
        [
         "S108",
         "Infectious disease",
         "1500",
         "GRP109"
        ],
        [
         "S109",
         "Hereditary",
         "2000",
         "GRP102"
        ],
        [
         "S109",
         "Hereditary",
         "2000",
         "GRP112"
        ],
        [
         "S109",
         "Hereditary",
         "2000",
         "GRP132"
        ],
        [
         "S109",
         "Hereditary",
         "2000",
         "GRP142"
        ],
        [
         "S109",
         "Hereditary",
         "2000",
         "GRP152"
        ],
        [
         "S110",
         "Viral",
         "1000",
         "GRP143"
        ],
        [
         "S110",
         "Viral",
         "1000",
         "GRP147"
        ],
        [
         "S110",
         "Viral",
         "1000",
         "GRP126"
        ]
       ],
       "datasetInfos": [],
       "dbfsResultPath": null,
       "isJsonSchema": true,
       "metadata": {},
       "overflow": false,
       "plotOptions": {
        "customPlotOptions": {},
        "displayType": "table",
        "pivotAggregation": null,
        "pivotColumns": null,
        "xColumns": null,
        "yColumns": null
       },
       "removedWidgets": [],
       "schema": [
        {
         "metadata": "{}",
         "name": "subgrp_sk",
         "type": "\"string\""
        },
        {
         "metadata": "{}",
         "name": "subgrp_name",
         "type": "\"string\""
        },
        {
         "metadata": "{}",
         "name": "monthly_premium",
         "type": "\"string\""
        },
        {
         "metadata": "{}",
         "name": "subgrp_id",
         "type": "\"string\""
        }
       ],
       "type": "table"
      }
     },
     "output_type": "display_data"
    }
   ],
   "source": [
    "display(subgrp_df)"
   ]
  }
 ],
 "metadata": {
  "application/vnd.databricks.v1+notebook": {
   "computePreferences": null,
   "dashboards": [],
   "environmentMetadata": {
    "base_environment": "",
    "environment_version": "2"
   },
   "language": "python",
   "notebookMetadata": {
    "pythonIndentUnit": 4
   },
   "notebookName": "subgroup_transformation",
   "widgets": {}
  },
  "language_info": {
   "name": "python"
  }
 },
 "nbformat": 4,
 "nbformat_minor": 0
}